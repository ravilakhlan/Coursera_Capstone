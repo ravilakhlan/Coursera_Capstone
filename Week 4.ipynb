{
 "cells": [
  {
   "cell_type": "markdown",
   "metadata": {},
   "source": [
    "# Introduction"
   ]
  },
  {
   "cell_type": "markdown",
   "metadata": {},
   "source": [
    "Ideally development in a city should take place uniformly across all parts. But the reality is often different and some areas are left behind whereas other areas are developed at faster pace. This creates a sense of inequity among the residents of the city. Mumbai is one of the most developed cities in India and it is often called the financial capital of India. Whereas the large part of Mumbai is filled with skyscrappers, there are still a big part which even lacks the most basic developmental needs. In this case study we will try to find and highlight such differences on an aggregate scale."
   ]
  },
  {
   "cell_type": "markdown",
   "metadata": {},
   "source": [
    "# Data"
   ]
  },
  {
   "cell_type": "markdown",
   "metadata": {},
   "source": [
    "For this case study, we will be using the following data:\n",
    "    1. Zip code data for Mumbai\n",
    "    2. Geolocation data for the zip codes\n",
    "    3. Infrastructure details using Foursquare API"
   ]
  },
  {
   "cell_type": "markdown",
   "metadata": {},
   "source": [
    "# Methodology"
   ]
  },
  {
   "cell_type": "markdown",
   "metadata": {},
   "source": [
    "The methodology used for this study is as follows:\n",
    "    1. Extract zip codes, longitudes and latitudes for different areas of Mumbai using BeautifulSoup.\n",
    "    2. Prepare the data.\n",
    "    3. Using the Foursquare API, get venues in near the zip codes.\n",
    "    4. Study the distribution of venues across the city.\n",
    "    5. Form clusters indicating similarly developed areas."
   ]
  }
 ],
 "metadata": {
  "kernelspec": {
   "display_name": "Python 3",
   "language": "python",
   "name": "python3"
  },
  "language_info": {
   "codemirror_mode": {
    "name": "ipython",
    "version": 3
   },
   "file_extension": ".py",
   "mimetype": "text/x-python",
   "name": "python",
   "nbconvert_exporter": "python",
   "pygments_lexer": "ipython3",
   "version": "3.8.3"
  }
 },
 "nbformat": 4,
 "nbformat_minor": 4
}
